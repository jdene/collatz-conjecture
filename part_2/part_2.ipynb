{
 "cells": [
  {
   "cell_type": "code",
   "execution_count": null,
   "id": "f4c6b9cf",
   "metadata": {},
   "outputs": [],
   "source": [
    "import matplotlib.pyplot as plt\n",
    "import seaborn as sns\n",
    "import numpy as np\n",
    "\n",
    "plt.rcParams[\"figure.figsize\"]=(400, 100)\n",
    "plt.rcParams['axes.labelsize'] = 200\n",
    "plt.rcParams['axes.titlesize'] = 200"
   ]
  },
  {
   "cell_type": "code",
   "execution_count": null,
   "id": "9d2b1814",
   "metadata": {},
   "outputs": [],
   "source": [
    "collatz_arr = []\n",
    "collatz_helper_arr = []\n",
    "freq_of_three_arr = []\n",
    "freq_dict = {}\n",
    "num_to_calc = 1000 ## MODIFY THIS ##\n",
    "\n",
    "# takes a value n, returns the collatz sequence for n\n",
    "def collatz(n):\n",
    "    collatz_arr.append(n)\n",
    "    if n == 1:\n",
    "        return 1\n",
    "    if n > 1:\n",
    "        if n % 2 == 0:\n",
    "             return collatz(n // 2)\n",
    "        else:\n",
    "             return collatz(3 * n + 1)\n",
    "    return collatz_arr\n",
    "print(collatz_arr)\n",
    "\n",
    "# takes a value n, runs all collatz sequences from 1 to n\n",
    "# calculates frequencies of all intermediate values in all collatz sequences from 1 to n\n",
    "def collatz_helper(n):\n",
    "    for i in range(1, n+1):\n",
    "        collatz_arr.clear()\n",
    "        collatz(i)\n",
    "        collatz_helper_arr.extend(collatz_arr)\n",
    "    for num in collatz_helper_arr:\n",
    "        if num not in freq_dict:\n",
    "            freq_dict[num] = 1\n",
    "        else:\n",
    "            freq_dict[num] += 1\n",
    "    return freq_dict, n"
   ]
  },
  {
   "cell_type": "code",
   "execution_count": null,
   "id": "908451a5",
   "metadata": {},
   "outputs": [],
   "source": [
    "# helper function for plotting data from collatz_helper\n",
    "def collatz_plot(freq_dict):  \n",
    "    list_keys = sorted(freq_dict)\n",
    "    list_vals = []\n",
    "    for i in list_keys:\n",
    "        list_vals.append(freq_dict[i])\n",
    "    for i in range(100):\n",
    "        print(list_vals[i], \",\", end=\"\")\n",
    "    plt.xlabel(\"Intermediate values for Collatz sequences 1 to \" + plot_size,fontsize=300,labelpad=300)\n",
    "    plt.ylabel(\"Frequency\",fontsize=300,labelpad=300)\n",
    "    sns.barplot(list_keys,list_vals)\n",
    "    print(f'maxval = {max(list_keys)}')"
   ]
  },
  {
   "cell_type": "code",
   "execution_count": null,
   "id": "9e6991c8",
   "metadata": {},
   "outputs": [],
   "source": [
    "freq_of_three_arr = [] # stores 1 or -1 to indicate if that index has 3 in its collatz sequence\n",
    "occurances_of_three = [] # stores the collatz number which has 3 in its sequence\n",
    "\n",
    "# takes a single number as input. first the collatz seuqnce is run for that number. the sequence is stoered in freq_of_three[]\n",
    "#if three is a member of this collatz seuquence, plot 1, else plot -1\n",
    "def freq_of_three(n):\n",
    "        collatz_arr.clear()\n",
    "        collatz(n)\n",
    "        if 3 in collatz_arr:\n",
    "            freq_of_three_arr.append(1)\n",
    "            occurances_of_three.append(n)\n",
    "        else:\n",
    "            freq_of_three_arr.append(-1)"
   ]
  },
  {
   "cell_type": "code",
   "execution_count": null,
   "id": "8a3e57b1",
   "metadata": {},
   "outputs": [],
   "source": [
    "mult_of_three_arr = [] # stores 1 or -1 to indicate if that index is a multiple of 3 itself \n",
    "\n",
    "def mult_of_three(n):\n",
    "    collatz_arr.clear()\n",
    "    collatz(n)\n",
    "    cur = 0\n",
    "    for num in collatz_arr:\n",
    "        if num % 3 == 0:\n",
    "            cur += 1\n",
    "        else:\n",
    "            continue\n",
    "    mult_of_three_arr.append(cur)"
   ]
  },
  {
   "cell_type": "code",
   "execution_count": null,
   "id": "827b4017",
   "metadata": {},
   "outputs": [],
   "source": [
    "pow_of_three_arr = [] # stores the number of powers of 3 in each collatz sequence\n",
    "\n",
    "# returns True if n is a power of 3, else False\n",
    "def isPowerOfThree(n):\n",
    "        return n > 0 and 1162261467 % n == 0\n",
    "    \n",
    "def power_of_three(n):\n",
    "    collatz_arr.clear()\n",
    "    collatz(n)\n",
    "    cur = 0\n",
    "    for num in collatz_arr:\n",
    "        if isPowerOfThree(num) == True:\n",
    "            cur += 1\n",
    "        else:\n",
    "            continue\n",
    "    pow_of_three_arr.append(cur)\n",
    "    \n",
    "# running freq, mult and power from 1 to num_to_calc\n",
    "for num in range(1, num_to_calc + 1):\n",
    "    freq_of_three(num)\n",
    "for num in range(1, num_to_calc + 1):\n",
    "    mult_of_three(num)\n",
    "for num in range(1, num_to_calc + 1):\n",
    "    power_of_three(num)"
   ]
  },
  {
   "cell_type": "code",
   "execution_count": null,
   "id": "7fc4f6a1",
   "metadata": {},
   "outputs": [],
   "source": [
    "# plot for first n collatz sequences, and if they contain 1 or not\n",
    "x_vals = [i for i in range(num_to_calc)]\n",
    "print(freq_of_three_arr[:10])\n",
    "print(occurances_of_three)\n",
    "plt.xlabel(\"Starting number of Collatz sequence\",fontsize=300,)\n",
    "plt.ylabel(\"Does the sequence contain 3\",fontsize=300,labelpad=300)\n",
    "sns.barplot(x_vals,freq_of_three_arr)"
   ]
  },
  {
   "cell_type": "code",
   "execution_count": null,
   "id": "6e15c1a3",
   "metadata": {},
   "outputs": [],
   "source": [
    "# plot for first n collatz sequences, and if they contain a power of 3 or not\n",
    "plt.xlabel(\"Starting number of Collatz sequence\")\n",
    "plt.ylabel(\"Does the sequence contain a power of three\")\n",
    "sns.barplot(x_vals,pow_of_three_arr[1:])\n",
    "print(pow_of_three_arr)"
   ]
  },
  {
   "cell_type": "code",
   "execution_count": null,
   "id": "e10fb869",
   "metadata": {},
   "outputs": [],
   "source": [
    "# plot for first n collatz sequences, and how many multiples of 3 are in the sequence\n",
    "fig,ax = plt.subplots(1,1)\n",
    "plt.yticks(fontsize=300)\n",
    "ax.set_yticks((0,1,2,3,4,5,6,7,8,9,10))\n",
    "mainplt = fig.add_subplot(111, frame_on=False)\n",
    "plt.tick_params(labelcolor=\"none\", bottom=False, left=False)\n",
    "mainplt.set_ylabel(\"How many multiples of three in the sequence\",fontsize=400,labelpad=1000)\n",
    "plt.xlabel(\"Starting number of Collatz sequence\",fontsize=400)\n",
    "sns.barplot(x_vals[1:],mult_of_three_arr[1:])"
   ]
  },
  {
   "cell_type": "code",
   "execution_count": null,
   "id": "2d5b4f32",
   "metadata": {},
   "outputs": [],
   "source": [
    "# log plot for sequences which contain 3\n",
    "fig, ax = plt.subplots()\n",
    "plt.yscale('log')\n",
    "plt.xlabel(\"Collatz sequences values which contain 3\",fontsize=200,labelpad=200)\n",
    "plt.ylabel(\"Starting number of Collatz sequence\",fontsize=200,labelpad=200)\n",
    "plt.plot(occurances_of_three,'r',linewidth=15)\n",
    "plt.show()"
   ]
  },
  {
   "cell_type": "code",
   "execution_count": null,
   "id": "b944a385",
   "metadata": {},
   "outputs": [],
   "source": [
    "# collatz function for calculating sequences with base other than 2 (2 used in original collatz function)\n",
    "# also stores results in custom_collatz_arr\n",
    "def custom_collatz(n,base):\n",
    "    custom_collatz_arr.append(n)\n",
    "    if n == 1:\n",
    "        return 1\n",
    "    k = n % base\n",
    "    if k == 0:\n",
    "        return custom_collatz(n // base,base)\n",
    "    return custom_collatz((base+1)*n + (base-k), base)"
   ]
  },
  {
   "cell_type": "code",
   "execution_count": null,
   "id": "6e3f70b3",
   "metadata": {},
   "outputs": [],
   "source": [
    "# collatz function for calculating sequences with base other than 2 (2 used in original collatz function)\n",
    "def custom_collatz_slim(n,base):\n",
    "    if n == 1:\n",
    "        return 1\n",
    "    k = n % base\n",
    "    if k == 0:\n",
    "        return custom_collatz(n // base, base)\n",
    "    return custom_collatz((base + 1) * n + (base-k), base)"
   ]
  },
  {
   "cell_type": "code",
   "execution_count": null,
   "id": "164cc47d",
   "metadata": {},
   "outputs": [],
   "source": [
    "max_n = 1000\n",
    "frequencies = {} # frequencies in a dictionary, key is the base, value is a list of frequencies of each index\n",
    "base_frequencies = [0] * max_n\n",
    "\n",
    "# function which takes a number to calculate the collatz sequence of, and a base to use for calulating the sequence\n",
    "# stores frequencies of each number in the sequence in base_frequencies\n",
    "def freq_of_nums(n, base):\n",
    "    custom_collatz_arr.clear()\n",
    "    custom_collatz(n,base)\n",
    "    for i in custom_collatz_arr:\n",
    "        if i < max_n:\n",
    "            base_frequencies[i] = base_frequencies[i] + 1\n",
    "        \n",
    "# calls freq_of_nums from 1 to max_n, stores base frequencies list in frequencies dict for each run\n",
    "for n in range(1,max_n+1):    \n",
    "        freq_of_nums(n,base)\n",
    "        frequencies[base] = base_frequencies.copy()"
   ]
  },
  {
   "cell_type": "code",
   "execution_count": null,
   "id": "a9d49d74",
   "metadata": {},
   "outputs": [],
   "source": [
    "# plot for first 80 values (0 to 79) and how many times they occur in the first 1000 collatz sequences\n",
    "x_values = [i for i in range(80)]\n",
    "plt.ylabel(\"Frequency of each number in the first 1000 Collatz sequences\",fontsize=300)\n",
    "col = []\n",
    "for val in x_values:\n",
    "    if val % 3 == 0:\n",
    "        col.append('red')\n",
    "    else:\n",
    "        col.append('cornflowerblue')\n",
    "for i in range(len(x_values)):\n",
    "        plt.text(i, frequencies[2][i], frequencies[2][i], ha = 'center',fontsize=200)   \n",
    "\n",
    "ax=plt.bar(x_values, frequencies[2][:80],color=col)\n",
    "plt.xticks(fontsize=150)\n",
    "plt.yticks(fontsize=150)\n",
    "plt.xticks(np.arange(min(x_values), max(x_values)+1, 1.0))"
   ]
  },
  {
   "cell_type": "code",
   "execution_count": null,
   "id": "68e05a66",
   "metadata": {},
   "outputs": [],
   "source": [
    "# takes a value to find frequency of, x, and a collatz sequence number n\n",
    "def freq_of_x(x,n,base):\n",
    "        custom_collatz_arr.clear()\n",
    "        custom_collatz(n,base)\n",
    "        if x in custom_collatz_arr:\n",
    "            freq_of_x_arr.append(1)\n",
    "            occurances_of_x.append(n)\n",
    "        else:\n",
    "            freq_of_x_arr.append(-1)"
   ]
  },
  {
   "cell_type": "code",
   "execution_count": null,
   "id": "78569959",
   "metadata": {},
   "outputs": [],
   "source": [
    "# takes a value to find multiples of, x, and a collatz sequence number n\n",
    "def mult_of_x(x,n,base):\n",
    "    custom_collatz_arr.clear()\n",
    "    custom_collatz(n,base)\n",
    "    cur = 0\n",
    "    for num in custom_collatz_arr:\n",
    "        if num % x == 0:\n",
    "            cur += 1\n",
    "        else:\n",
    "            continue\n",
    "    mult_of_x_arr.append(cur)"
   ]
  },
  {
   "cell_type": "code",
   "execution_count": null,
   "id": "55328cf1",
   "metadata": {},
   "outputs": [],
   "source": [
    "base = 2\n",
    "freq_dict = {}\n",
    "occ_dict = {}\n",
    "\n",
    "for x in range(3,31):\n",
    "    freq_of_x_arr.clear()\n",
    "    occurances_of_x.clear()\n",
    "    for num in range(num_to_calc)[1:]:\n",
    "        freq_of_x(x,num,base)\n",
    "        freq_dict[x] = freq_of_x_arr.copy()\n",
    "        occ_dict[x] = occurances_of_x.copy()\n",
    "        \n",
    "# calculating frequency and multiples of 5 in all collatz sequences from 1 to num_to_calc\n",
    "for num in range(1,num_to_calc+1):\n",
    "    freq_of_x(5,num)\n",
    "for num in range(1,num_to_calc+1):\n",
    "    mult_of_x(5,num)"
   ]
  },
  {
   "cell_type": "code",
   "execution_count": null,
   "id": "9318690c",
   "metadata": {},
   "outputs": [],
   "source": [
    "# plot for distribution of different multiples of 3\n",
    "fig,ax = plt.subplots(10,1)\n",
    "ax_val = 0\n",
    "temp_list = []\n",
    "mainplt = fig.add_subplot(111, frame_on=False)\n",
    "plt.tick_params(labelcolor=\"none\", bottom=False, left=False)\n",
    "mainplt.set_ylabel(\"Distribution of occurances of different multiples of 5\",fontsize=300,labelpad=1000)\n",
    "for i in range(3,33,3):\n",
    "    temp_list.append(i)\n",
    "    ax[ax_val].set_ylabel(str(i),fontsize=300)\n",
    "    fig = sns.barplot(x_vals[:999],freq_dict[i][:999],ax=ax[ax_val])\n",
    "    ax_val +=1"
   ]
  },
  {
   "cell_type": "code",
   "execution_count": null,
   "id": "f4933f5f",
   "metadata": {},
   "outputs": [],
   "source": [
    "# plot for distribution of different multiples of 5\n",
    "fig,ax = plt.subplots(10,1)\n",
    "ax_val = 0\n",
    "temp_list = []\n",
    "mainplt = fig.add_subplot(111, frame_on=False)\n",
    "plt.tick_params(labelcolor=\"none\", bottom=False, left=False)\n",
    "mainplt.set_ylabel(\"Distribution of occurances of different multiples of 5\",fontsize=300,labelpad=1000)\n",
    "for i in [5,10,20,25]:\n",
    "    temp_list.append(i)\n",
    "    ax[ax_val].set_ylabel(str(i),fontsize=300)\n",
    "    fig = sns.barplot(x_vals[:999],freq_dict[i][:999],ax=ax[ax_val])\n",
    "    ax_val +=1"
   ]
  }
 ],
 "metadata": {
  "kernelspec": {
   "display_name": "Python 3 (ipykernel)",
   "language": "python",
   "name": "python3"
  },
  "language_info": {
   "codemirror_mode": {
    "name": "ipython",
    "version": 3
   },
   "file_extension": ".py",
   "mimetype": "text/x-python",
   "name": "python",
   "nbconvert_exporter": "python",
   "pygments_lexer": "ipython3",
   "version": "3.10.0"
  }
 },
 "nbformat": 4,
 "nbformat_minor": 5
}
