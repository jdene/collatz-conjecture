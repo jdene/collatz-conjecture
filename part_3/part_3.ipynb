{
 "cells": [
  {
   "cell_type": "code",
   "execution_count": null,
   "id": "a268dc00",
   "metadata": {},
   "outputs": [],
   "source": [
    "custom_collatz_arr = [] # stores collatz sequence for one run\n",
    "custom_collatz_lengths = [] # stores lengths of sequences\n",
    "custom_collatz_lengths_dict = {} # stores lengths of sequences for different bases\n",
    "\n",
    "def custom_collatz(n,base):\n",
    "    custom_collatz_arr.append(n)\n",
    "    if n == 1:\n",
    "        return 1\n",
    "    k = n % base\n",
    "    if k == 0:\n",
    "        return custom_collatz(n // base,base)\n",
    "    return custom_collatz((base+1)*n + (base-k), base)\n",
    "\n",
    "def custom_collatz_slim(n,base):\n",
    "    if n == 1:\n",
    "        return 1\n",
    "    k = n % base\n",
    "    if k == 0:\n",
    "        return custom_collatz(n // base, base)\n",
    "    return custom_collatz((base + 1) * n + (base-k), base)\n",
    "        \n",
    "# calculate stopping times for custom_collatz from base+1 to 10000, \n",
    "# append the length of each sequence to the lengths array, then plot lengths\n",
    "for base in working_bases:\n",
    "    for i in range(base+1,2000):\n",
    "        custom_collatz_arr.clear()\n",
    "        custom_collatz(i,base)\n",
    "        custom_collatz_lengths.append(len(custom_collatz_arr))\n",
    "    custom_collatz_lengths_dict[base] = custom_collatz_lengths.copy()\n",
    "    custom_collatz_lengths.clear()"
   ]
  },
  {
   "cell_type": "code",
   "execution_count": null,
   "id": "b143fa2c",
   "metadata": {},
   "outputs": [],
   "source": [
    "# plotting stopping time histogram for base of 2 vs base of 7\n",
    "plt.ylabel(\"Stopping time (total iterations)\",fontsize=250)\n",
    "plt.xlabel(\"Starting number\",fontsize=250)\n",
    "plt.plot(custom_collatz_lengths_dict[2],'o',markersize=70)\n",
    "plt.plot(custom_collatz_lengths_dict[7],'o',markersize=70)\n",
    "plt.legend(['Base of 2','Base of 7'],fontsize=250,markerscale=3,loc=\"upper right\")"
   ]
  },
  {
   "cell_type": "code",
   "execution_count": null,
   "id": "a087bed6",
   "metadata": {},
   "outputs": [],
   "source": [
    "# plotting stopping time histograms for all bases\n",
    "nr = len(working_bases)\n",
    "fig,ax = plt.subplots(nr,1,figsize=(200,900))\n",
    "ax_val = 0\n",
    "mainplt = fig.add_subplot(111, frame_on=False)\n",
    "plt.tick_params(labelcolor=\"none\", bottom=False, left=False)\n",
    "mainplt.set_ylabel(\"Stopping time for various bases\",fontsize=175,labelpad=500)\n",
    "mainplt.set_xlabel(\"Starting number\",fontsize=175,labelpad=100)\n",
    "for i, a in enumerate(ax):\n",
    "    ax[ax_val].set_ylabel(str(working_bases[i]),fontsize=175)\n",
    "    a.plot(custom_collatz_lengths_dict[working_bases[i]],'o',markersize=45)\n",
    "    ax_val += 1"
   ]
  },
  {
   "cell_type": "code",
   "execution_count": null,
   "id": "c1cfbd49",
   "metadata": {},
   "outputs": [],
   "source": [
    "# plotting frequencies of multiples of 8\n",
    "x_values = [i for i in range(81)]\n",
    "plt.ylabel(\"Frequency of each number in the first 1000 Collatz sequences\",fontsize=250)\n",
    "col = []\n",
    "for val in x_values:\n",
    "    if val % 8 == 0:\n",
    "        col.append('red')\n",
    "    else:\n",
    "        col.append('cornflowerblue')\n",
    "for i in range(len(x_values)):\n",
    "        plt.text(i, frequencies[7][i], frequencies[7][i], ha = 'center',fontsize=200)\n",
    "\n",
    "ax=plt.bar(x_values, frequencies[7][:81],color=col)\n",
    "plt.xticks(fontsize=150)\n",
    "plt.yticks(fontsize=150)\n",
    "plt.xticks(np.arange(min(x_values), max(x_values)+1, 1.0))\n",
    "plt.show()"
   ]
  },
  {
   "cell_type": "code",
   "execution_count": null,
   "id": "7b5b2879",
   "metadata": {},
   "outputs": [],
   "source": [
    "# plotting distribution of different multiples of 8\n",
    "fig,ax = plt.subplots(10,1)\n",
    "ax_val = 0\n",
    "temp_list = []\n",
    "mainplt = fig.add_subplot(111, frame_on=False)\n",
    "plt.tick_params(labelcolor=\"none\", bottom=False, left=False)\n",
    "mainplt.set_ylabel(\"Distribution of occurances of different multiples of 8\",fontsize=300,labelpad=1000)\n",
    "for i in range(8,88,8):\n",
    "    temp_list.append(i)\n",
    "    ax[ax_val].set_ylabel(str(i),fontsize=250)\n",
    "    fig = sns.barplot(x_vals[:999],freq_dict[i][:999],ax=ax[ax_val])\n",
    "    ax_val +=1"
   ]
  }
 ],
 "metadata": {
  "kernelspec": {
   "display_name": "Python 3 (ipykernel)",
   "language": "python",
   "name": "python3"
  },
  "language_info": {
   "codemirror_mode": {
    "name": "ipython",
    "version": 3
   },
   "file_extension": ".py",
   "mimetype": "text/x-python",
   "name": "python",
   "nbconvert_exporter": "python",
   "pygments_lexer": "ipython3",
   "version": "3.10.0"
  }
 },
 "nbformat": 4,
 "nbformat_minor": 5
}
